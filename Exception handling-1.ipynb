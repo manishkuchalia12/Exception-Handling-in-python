{
 "cells": [
  {
   "cell_type": "raw",
   "id": "935da2bf-cb9e-4bf8-a80e-6f0767d56fb7",
   "metadata": {},
   "source": [
    "Q1:-what is an exception in python ? \n",
    "Ans:-an exception is an event that occurs during the execution of a program that disrupts the normal flow of instructions. When an error occurs, Python raises an exception, which can be caught and handled by the program."
   ]
  },
  {
   "cell_type": "raw",
   "id": "71339a2e-e643-4783-91fb-9761bb4de9d9",
   "metadata": {},
   "source": [
    " Q:-Write the diifrence between Exception and syntax error.\n",
    "\n",
    "Ans:-\n",
    "Exception:\n",
    "\n",
    "1.An exception is a runtime error that occurs during the execution of a program.\n",
    "2.It is typically caused by factors such as invalid input, division by zero, or attempting to access an undefined variable.\n",
    "3.Exceptions can be caught and handled using try and except blocks.\n",
    "\n",
    "Syntax Error:\n",
    "\n",
    "1.A syntax error, on the other hand, is a type of error that occurs before the program is run. It is a mistake in the code structure that violates the rules of the Python language.\n",
    "2.Examples of syntax errors include misspelled keywords, missing colons, or incorrect indentation.\n",
    "3.Unlike exceptions, syntax errors are detected by the Python interpreter during the parsing phase, before the program starts executing."
   ]
  },
  {
   "cell_type": "raw",
   "id": "45d02db9-89d0-4053-8b8e-b5742a2990a3",
   "metadata": {},
   "source": [
    "Q:-what happens when an exception an exception is not handled?\n",
    "\n",
    "Ans :-When an exception is not handled in a program, it leads to what is known as an \"unhandled exception\n",
    "\n",
    "Example:-"
   ]
  },
  {
   "cell_type": "code",
   "execution_count": null,
   "id": "6d51a0ec-faf1-4a3d-9dd6-9d14137b8511",
   "metadata": {},
   "outputs": [],
   "source": [
    "def divide_numbers(a, b):\n",
    "    result = a / b\n",
    "    return result\n",
    "result = divide_numbers(10, 0)\n",
    "print(\"Result:\", result)\n"
   ]
  },
  {
   "cell_type": "raw",
   "id": "e910cac4-0585-4210-b05a-5f6ef0082957",
   "metadata": {},
   "source": [
    "Q3:-Which python statements are used to catch and handle exceptions? Explain with example\n",
    " Ans :- The try and except statements are used to catch and handle exceptions."
   ]
  },
  {
   "cell_type": "code",
   "execution_count": null,
   "id": "6de3fe9a-2d4a-484a-9147-59aea1d7092a",
   "metadata": {},
   "outputs": [],
   "source": [
    "# Example \n",
    "\n",
    "try:\n",
    "    numerator = int(input(\"Enter the numerator: \"))\n",
    "    denominator = int(input(\"Enter the denominator: \"))\n",
    "    \n",
    "    result = numerator / denominator\n",
    "    print(\"Result:\", result)\n",
    "\n",
    "except ZeroDivisionError:\n",
    "    print(\"Error: Cannot divide by zero.\")"
   ]
  },
  {
   "cell_type": "raw",
   "id": "288f8f1e-3919-4706-a391-6350a5a7aebb",
   "metadata": {},
   "source": [
    "Explain with an example\n",
    "a. try ,except and else \n",
    "b. finaly\n",
    "c.raise"
   ]
  },
  {
   "cell_type": "code",
   "execution_count": 4,
   "id": "8ff221bc-5bc7-4d11-a843-cdee653e0ad9",
   "metadata": {},
   "outputs": [
    {
     "name": "stdout",
     "output_type": "stream",
     "text": [
      "Division successful.\n",
      "Result 1: 5.0\n",
      "Error: Cannot divide by zero.\n"
     ]
    }
   ],
   "source": [
    " #Ans:-The try, except, and else statements can be used together to handle exceptions and execute code\n",
    "#Ans:-The finally block is used along with the try and except blocks to define a piece of code that will be executed\n",
    "# Example: Using try, except, and else\n",
    "\n",
    "\n",
    "\n",
    "def divide_numbers(a, b):\n",
    "    try:\n",
    "        result = a / b\n",
    "    except ZeroDivisionError:\n",
    "        print(\"Error: Cannot divide by zero.\")\n",
    "\n",
    "    else:\n",
    "        print(\"Division successful.\")\n",
    "        return result\n",
    "    finally:\n",
    "        print(\"Executing finally block.\")\n",
    "\n",
    "result1 = divide_numbers(10, 2)\n",
    "print(\"Result 1:\", result1)\n",
    "\n",
    "result2 = divide_numbers(8, 0)\n",
    "\n",
    "\n"
   ]
  },
  {
   "cell_type": "code",
   "execution_count": null,
   "id": "735754f7-b40f-4200-92ad-e82a4ad32444",
   "metadata": {},
   "outputs": [],
   "source": [
    " #Ans:-The raise statement is used to explicitly raise an exception. \n",
    "def divide_numbers(a, b):\n",
    "    if b == 0:\n",
    "        raise ValueError(\"Cannot divide by zero.\")\n",
    "    result = a / b\n",
    "    return result\n",
    "\n",
    "try:\n",
    "    result = divide_numbers(10, 0)\n",
    "    print(\"Result:\", result)\n",
    "except ValueError as e:\n",
    "    print(f\"Error: {e}\")\n"
   ]
  },
  {
   "cell_type": "raw",
   "id": "7fc99e96-6532-4837-ad72-585f2ee1378b",
   "metadata": {},
   "source": [
    "5. What are the Custom Exxeptions in p\u000b",
    "thon?\n",
    "Ans:- you can create custom exceptions by defining new classes that inherit from the built-in Exception class or one of its subclasses.\n",
    "\n",
    "Q:-why do we need Custom Exxeptions?\n",
    "Ans:-Expressiveness and Readability,\n",
    "Code Organization,\n",
    "Error Handling.\n",
    "\n",
    "Example :-\n",
    "\n"
   ]
  },
  {
   "cell_type": "code",
   "execution_count": null,
   "id": "70553415-ce60-4d49-a765-fb1cb9667dae",
   "metadata": {},
   "outputs": [],
   "source": [
    "\n",
    "class InsufficientFundsError(Exception):\n",
    "    def __init__(self, balance, amount):\n",
    "        self.balance = balance\n",
    "        self.amount = amount\n",
    "        super().__init__(f\"Insufficient funds: Balance={balance}, Withdrawal={amount}\")\n",
    "\n",
    "class NegativeDepositError(Exception):\n",
    "    def __init__(self, amount):\n",
    "        self.amount = amount\n",
    "        super().__init__(f\"Invalid deposit amount: {amount}. Amount must be positive.\")\n",
    "\n",
    "class BankAccount:\n",
    "    def __init__(self, balance=0):\n",
    "        self.balance = balance\n",
    "\n",
    "    def withdraw(self, amount):\n",
    "        if amount > self.balance:\n",
    "            raise InsufficientFundsError(self.balance, amount)\n",
    "        else:\n",
    "            self.balance -= amount\n",
    "            return self.balance\n",
    "\n",
    "    def deposit(self, amount):\n",
    "        if amount <= 0:\n",
    "            raise NegativeDepositError(amount)\n",
    "        else:\n",
    "            self.balance += amount\n",
    "            return self.balance\n",
    "\n",
    "account = BankAccount(balance=1000)\n",
    "\n",
    "try:\n",
    "    withdrawal_amount = 1500\n",
    "    new_balance = account.withdraw(withdrawal_amount)\n",
    "    print(f\"Withdrawal successful. New balance: {new_balance}\")\n",
    "except InsufficientFundsError as e:\n",
    "    print(f\"Error: {e}\")\n",
    "\n",
    "try:\n",
    "    deposit_amount = -200\n",
    "    new_balance = account.deposit(deposit_amount)\n",
    "    print(f\"Deposit successful. New balance: {new_balance}\")\n",
    "except NegativeDepositError as e:\n",
    "    print(f\"Error: {e}\")\n"
   ]
  },
  {
   "cell_type": "raw",
   "id": "1b30e9ba-46ab-4505-85a8-588d23f5eb02",
   "metadata": {},
   "source": [
    "Q:- Create a custum Exception class.Use this class to handle an exception"
   ]
  }
 ],
 "metadata": {
  "kernelspec": {
   "display_name": "Python 3 (ipykernel)",
   "language": "python",
   "name": "python3"
  },
  "language_info": {
   "codemirror_mode": {
    "name": "ipython",
    "version": 3
   },
   "file_extension": ".py",
   "mimetype": "text/x-python",
   "name": "python",
   "nbconvert_exporter": "python",
   "pygments_lexer": "ipython3",
   "version": "3.12.0"
  }
 },
 "nbformat": 4,
 "nbformat_minor": 5
}
